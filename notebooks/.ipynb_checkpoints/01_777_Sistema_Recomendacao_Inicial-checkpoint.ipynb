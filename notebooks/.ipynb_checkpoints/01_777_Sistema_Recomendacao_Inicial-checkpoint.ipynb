{
 "cells": [
  {
   "cell_type": "code",
   "execution_count": 1,
   "id": "0d8d0b0e-35ee-48a6-bb74-04b1d6e1b3fe",
   "metadata": {},
   "outputs": [
    {
     "name": "stdout",
     "output_type": "stream",
     "text": [
      "C:\\Users\\flavi\\Documents\\GitHub\\Projeto_7_Sistema_de_Recomendacao\n",
      "C:\\Users\\flavi\\Documents\\GitHub\\Projeto_7_Sistema_de_Recomendacao\n"
     ]
    }
   ],
   "source": [
    "# Configuração do ambiente\n",
    "%cd ..  \n",
    "!cd  "
   ]
  },
  {
   "cell_type": "code",
   "execution_count": 2,
   "id": "7889c509-4964-46e8-be53-9fea3c9b933c",
   "metadata": {},
   "outputs": [],
   "source": [
    "# Importações necessárias \n",
    "import sys\n",
    "import os\n",
    "import tensorflow as tf\n",
    "import pandas as pd\n",
    "import numpy as np\n",
    "from datetime import datetime\n",
    "\n",
    "from sklearn.preprocessing import LabelEncoder, MinMaxScaler\n",
    "\n",
    "from src.config.paths import DADOS_BRUTOS, DADOS_TRATADOS\n",
    "from src.config.auxiliares_ml import downcast_dataframe"
   ]
  },
  {
   "cell_type": "code",
   "execution_count": 3,
   "id": "89a5e015-7d2b-4a12-a516-3237b2fd2890",
   "metadata": {},
   "outputs": [],
   "source": [
    "# Importando a base de dados\n",
    "\n",
    "df = pd.read_csv(DADOS_BRUTOS)"
   ]
  },
  {
   "cell_type": "code",
   "execution_count": 4,
   "id": "996271bc-c90c-4a36-99ad-f45b798bbb1e",
   "metadata": {},
   "outputs": [
    {
     "data": {
      "text/html": [
       "<div>\n",
       "<style scoped>\n",
       "    .dataframe tbody tr th:only-of-type {\n",
       "        vertical-align: middle;\n",
       "    }\n",
       "\n",
       "    .dataframe tbody tr th {\n",
       "        vertical-align: top;\n",
       "    }\n",
       "\n",
       "    .dataframe thead th {\n",
       "        text-align: right;\n",
       "    }\n",
       "</style>\n",
       "<table border=\"1\" class=\"dataframe\">\n",
       "  <thead>\n",
       "    <tr style=\"text-align: right;\">\n",
       "      <th></th>\n",
       "      <th>Row ID</th>\n",
       "      <th>Order ID</th>\n",
       "      <th>Order Date</th>\n",
       "      <th>Ship Date</th>\n",
       "      <th>Ship Mode</th>\n",
       "      <th>Customer ID</th>\n",
       "      <th>Customer Name</th>\n",
       "      <th>Segment</th>\n",
       "      <th>Country</th>\n",
       "      <th>City</th>\n",
       "      <th>State</th>\n",
       "      <th>Postal Code</th>\n",
       "      <th>Region</th>\n",
       "      <th>Product ID</th>\n",
       "      <th>Category</th>\n",
       "      <th>Sub-Category</th>\n",
       "      <th>Product Name</th>\n",
       "      <th>Sales</th>\n",
       "    </tr>\n",
       "  </thead>\n",
       "  <tbody>\n",
       "    <tr>\n",
       "      <th>0</th>\n",
       "      <td>1</td>\n",
       "      <td>CA-2017-152156</td>\n",
       "      <td>08/11/2017</td>\n",
       "      <td>11/11/2017</td>\n",
       "      <td>Second Class</td>\n",
       "      <td>CG-12520</td>\n",
       "      <td>Claire Gute</td>\n",
       "      <td>Consumer</td>\n",
       "      <td>United States</td>\n",
       "      <td>Henderson</td>\n",
       "      <td>Kentucky</td>\n",
       "      <td>42420.0</td>\n",
       "      <td>South</td>\n",
       "      <td>FUR-BO-10001798</td>\n",
       "      <td>Furniture</td>\n",
       "      <td>Bookcases</td>\n",
       "      <td>Bush Somerset Collection Bookcase</td>\n",
       "      <td>261.96</td>\n",
       "    </tr>\n",
       "    <tr>\n",
       "      <th>1</th>\n",
       "      <td>2</td>\n",
       "      <td>CA-2017-152156</td>\n",
       "      <td>08/11/2017</td>\n",
       "      <td>11/11/2017</td>\n",
       "      <td>Second Class</td>\n",
       "      <td>CG-12520</td>\n",
       "      <td>Claire Gute</td>\n",
       "      <td>Consumer</td>\n",
       "      <td>United States</td>\n",
       "      <td>Henderson</td>\n",
       "      <td>Kentucky</td>\n",
       "      <td>42420.0</td>\n",
       "      <td>South</td>\n",
       "      <td>FUR-CH-10000454</td>\n",
       "      <td>Furniture</td>\n",
       "      <td>Chairs</td>\n",
       "      <td>Hon Deluxe Fabric Upholstered Stacking Chairs,...</td>\n",
       "      <td>731.94</td>\n",
       "    </tr>\n",
       "  </tbody>\n",
       "</table>\n",
       "</div>"
      ],
      "text/plain": [
       "   Row ID        Order ID  Order Date   Ship Date     Ship Mode Customer ID  \\\n",
       "0       1  CA-2017-152156  08/11/2017  11/11/2017  Second Class    CG-12520   \n",
       "1       2  CA-2017-152156  08/11/2017  11/11/2017  Second Class    CG-12520   \n",
       "\n",
       "  Customer Name   Segment        Country       City     State  Postal Code  \\\n",
       "0   Claire Gute  Consumer  United States  Henderson  Kentucky      42420.0   \n",
       "1   Claire Gute  Consumer  United States  Henderson  Kentucky      42420.0   \n",
       "\n",
       "  Region       Product ID   Category Sub-Category  \\\n",
       "0  South  FUR-BO-10001798  Furniture    Bookcases   \n",
       "1  South  FUR-CH-10000454  Furniture       Chairs   \n",
       "\n",
       "                                        Product Name   Sales  \n",
       "0                  Bush Somerset Collection Bookcase  261.96  \n",
       "1  Hon Deluxe Fabric Upholstered Stacking Chairs,...  731.94  "
      ]
     },
     "execution_count": 4,
     "metadata": {},
     "output_type": "execute_result"
    }
   ],
   "source": [
    "# Observando as primeiras linhas da base \n",
    "\n",
    "df.head(2)"
   ]
  },
  {
   "cell_type": "code",
   "execution_count": 5,
   "id": "d5e2f77a-e259-406c-a58e-673d51d3db69",
   "metadata": {},
   "outputs": [
    {
     "name": "stdout",
     "output_type": "stream",
     "text": [
      "<class 'pandas.core.frame.DataFrame'>\n",
      "RangeIndex: 9800 entries, 0 to 9799\n",
      "Data columns (total 18 columns):\n",
      " #   Column         Non-Null Count  Dtype  \n",
      "---  ------         --------------  -----  \n",
      " 0   Row ID         9800 non-null   int64  \n",
      " 1   Order ID       9800 non-null   object \n",
      " 2   Order Date     9800 non-null   object \n",
      " 3   Ship Date      9800 non-null   object \n",
      " 4   Ship Mode      9800 non-null   object \n",
      " 5   Customer ID    9800 non-null   object \n",
      " 6   Customer Name  9800 non-null   object \n",
      " 7   Segment        9800 non-null   object \n",
      " 8   Country        9800 non-null   object \n",
      " 9   City           9800 non-null   object \n",
      " 10  State          9800 non-null   object \n",
      " 11  Postal Code    9789 non-null   float64\n",
      " 12  Region         9800 non-null   object \n",
      " 13  Product ID     9800 non-null   object \n",
      " 14  Category       9800 non-null   object \n",
      " 15  Sub-Category   9800 non-null   object \n",
      " 16  Product Name   9800 non-null   object \n",
      " 17  Sales          9800 non-null   float64\n",
      "dtypes: float64(2), int64(1), object(15)\n",
      "memory usage: 1.3+ MB\n"
     ]
    }
   ],
   "source": [
    "# Observando as informações da base \n",
    "\n",
    "df.info()"
   ]
  },
  {
   "cell_type": "code",
   "execution_count": 6,
   "id": "86e593f5-2de0-4e70-941b-7f908ca74460",
   "metadata": {},
   "outputs": [
    {
     "data": {
      "text/plain": [
       "Row ID            0\n",
       "Order ID          0\n",
       "Order Date        0\n",
       "Ship Date         0\n",
       "Ship Mode         0\n",
       "Customer ID       0\n",
       "Customer Name     0\n",
       "Segment           0\n",
       "Country           0\n",
       "City              0\n",
       "State             0\n",
       "Postal Code      11\n",
       "Region            0\n",
       "Product ID        0\n",
       "Category          0\n",
       "Sub-Category      0\n",
       "Product Name      0\n",
       "Sales             0\n",
       "dtype: int64"
      ]
     },
     "execution_count": 6,
     "metadata": {},
     "output_type": "execute_result"
    }
   ],
   "source": [
    "# Observando os valores nulos da base\n",
    "\n",
    "df.isnull().sum()"
   ]
  },
  {
   "cell_type": "code",
   "execution_count": 7,
   "id": "45cee0ac-f872-467c-adcf-91af3f328b3c",
   "metadata": {},
   "outputs": [],
   "source": [
    "# Filtrando os valores nulos de 'Postal Code'\n",
    "\n",
    "df.loc[df['Postal Code'].isnull(), 'Postal Code'] = 5401"
   ]
  },
  {
   "cell_type": "code",
   "execution_count": 8,
   "id": "44393cea-0d99-4f64-8723-5619072c3aa2",
   "metadata": {},
   "outputs": [],
   "source": [
    "# Criando uma função para corrigir os types das variáveis\n",
    "\n",
    "def ajustar_tipos(df):\n",
    "    df_corrigido = df.copy()\n",
    "    \n",
    "    for col in df_corrigido.columns:\n",
    "        if col in ['Order Date', 'Ship Date']:\n",
    "            # Manter essas colunas como tipo data\n",
    "            df_corrigido[col] = pd.to_datetime(df_corrigido[col], errors='coerce')\n",
    "        elif pd.api.types.is_numeric_dtype(df_corrigido[col]):\n",
    "            # Se for numérico, verificar se pode ser convertido para inteiro\n",
    "            if all(df_corrigido[col].dropna() % 1 == 0):\n",
    "                df_corrigido[col] = df_corrigido[col].astype(int)\n",
    "        elif pd.api.types.is_string_dtype(df_corrigido[col]):\n",
    "            # Se for string e tiver muitas repetições, pode ser categorizado\n",
    "            unique_ratio = df_corrigido[col].nunique() / len(df_corrigido[col])\n",
    "            if unique_ratio < 0.5:  # Pode ajustar esse valor conforme necessário\n",
    "                df_corrigido[col] = df_corrigido[col].astype('category')\n",
    "        elif pd.api.types.is_object_dtype(df_corrigido[col]):\n",
    "            # Verificar se é uma data\n",
    "            try:\n",
    "                df_corrigido[col] = df_corrigido[col].apply(lambda x: datetime.strptime(x, '%Y-%m-%d') if isinstance(x, str) else x)\n",
    "            except (ValueError, TypeError):\n",
    "                pass\n",
    "    \n",
    "    return df_corrigido"
   ]
  },
  {
   "cell_type": "code",
   "execution_count": 9,
   "id": "5932ca95-ae66-4fc7-9546-38ad049b08ce",
   "metadata": {},
   "outputs": [
    {
     "data": {
      "text/plain": [
       "Row ID                    int64\n",
       "Order ID                 object\n",
       "Order Date       datetime64[ns]\n",
       "Ship Date        datetime64[ns]\n",
       "Ship Mode              category\n",
       "Customer ID            category\n",
       "Customer Name          category\n",
       "Segment                category\n",
       "Country                category\n",
       "City                   category\n",
       "State                  category\n",
       "Postal Code               int64\n",
       "Region                 category\n",
       "Product ID             category\n",
       "Category               category\n",
       "Sub-Category           category\n",
       "Product Name           category\n",
       "Sales                   float64\n",
       "dtype: object"
      ]
     },
     "execution_count": 9,
     "metadata": {},
     "output_type": "execute_result"
    }
   ],
   "source": [
    "# Utilizando a função \n",
    "\n",
    "df_corrigido = ajustar_tipos(df)\n",
    "df_corrigido.dtypes"
   ]
  },
  {
   "cell_type": "code",
   "execution_count": 10,
   "id": "a3d09958-dd6d-4f2f-9395-8653736a72fa",
   "metadata": {},
   "outputs": [],
   "source": [
    "# Fazendo o downcast da base \n",
    "\n",
    "df = downcast_dataframe(df)"
   ]
  },
  {
   "cell_type": "code",
   "execution_count": 11,
   "id": "c1eebc70-fce5-4b4e-8a7b-95ef75135c30",
   "metadata": {},
   "outputs": [],
   "source": [
    "# Sanvando a base tratada na extensão .parquet\n",
    "\n",
    "df.to_parquet(DADOS_TRATADOS)"
   ]
  }
 ],
 "metadata": {
  "kernelspec": {
   "display_name": "Python 3.11 (TensorFlow)",
   "language": "python",
   "name": "meu_env_python3.11"
  },
  "language_info": {
   "codemirror_mode": {
    "name": "ipython",
    "version": 3
   },
   "file_extension": ".py",
   "mimetype": "text/x-python",
   "name": "python",
   "nbconvert_exporter": "python",
   "pygments_lexer": "ipython3",
   "version": "3.11.11"
  }
 },
 "nbformat": 4,
 "nbformat_minor": 5
}
