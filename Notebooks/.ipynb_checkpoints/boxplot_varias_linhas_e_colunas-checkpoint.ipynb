{
 "cells": [
  {
   "cell_type": "code",
   "execution_count": null,
   "id": "7b07063b-019e-4fd7-8a19-ae6c14769409",
   "metadata": {},
   "outputs": [],
   "source": [
    "import matplotlib.pyplot as plt\n",
    "import seaborn as sns\n",
    "\n",
    "fig, axs = plt.subplots(4, 3, figsize=(8, 8))\n",
    "\n",
    "for ax, coluna in zip(axs.flatten(), df.columns):\n",
    "    sns.boxplot(\n",
    "        x=df[coluna],\n",
    "        ax=ax,\n",
    "        showmeans=True,\n",
    "    )\n",
    "\n",
    "plt.tight_layout()\n",
    "\n",
    "plt.show()"
   ]
  }
 ],
 "metadata": {
  "kernelspec": {
   "display_name": "Python 3 (ipykernel)",
   "language": "python",
   "name": "python3"
  },
  "language_info": {
   "codemirror_mode": {
    "name": "ipython",
    "version": 3
   },
   "file_extension": ".py",
   "mimetype": "text/x-python",
   "name": "python",
   "nbconvert_exporter": "python",
   "pygments_lexer": "ipython3",
   "version": "3.12.4"
  }
 },
 "nbformat": 4,
 "nbformat_minor": 5
}
