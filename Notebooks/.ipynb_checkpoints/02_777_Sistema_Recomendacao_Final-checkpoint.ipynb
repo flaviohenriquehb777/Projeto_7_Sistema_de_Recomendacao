{
 "cells": [
  {
   "cell_type": "code",
   "execution_count": 1,
   "id": "a20fe99c-f1ac-4f96-a723-27922c1de439",
   "metadata": {},
   "outputs": [],
   "source": [
    "import tensorflow as tf\n",
    "import pandas as pd\n",
    "import numpy as np\n",
    "from datetime import datetime\n",
    "from sklearn.preprocessing import LabelEncoder, MinMaxScaler\n",
    "\n",
    "from src.config import DADOS_BRUTOS, DADOS_TRATADOS\n",
    "from src.auxiliares_ml import downcast_dataframe"
   ]
  },
  {
   "cell_type": "code",
   "execution_count": 2,
   "id": "222129b8-3e0c-4e7c-8feb-88efd7d8ae12",
   "metadata": {},
   "outputs": [],
   "source": [
    "# Carregar os dados\n",
    "\n",
    "df = pd.read_parquet(DADOS_TRATADOS)"
   ]
  },
  {
   "cell_type": "code",
   "execution_count": 3,
   "id": "1e322a8d-f797-4a7f-a4d7-f4e2e14e7286",
   "metadata": {},
   "outputs": [],
   "source": [
    "# Filtrar colunas relevantes\n",
    "\n",
    "df = df[['Customer Name', 'Product ID', 'Product Name', 'Sales', 'Category', 'Sub-Category']]"
   ]
  },
  {
   "cell_type": "code",
   "execution_count": 4,
   "id": "a2e42b00-fa39-4b1e-8b27-b2093e9409c8",
   "metadata": {},
   "outputs": [],
   "source": [
    "# Codificar os nomes dos clientes e IDs dos produtos\n",
    "\n",
    "customer_encoder = LabelEncoder()\n",
    "product_encoder = LabelEncoder()\n",
    "category_encoder = LabelEncoder()\n",
    "subcategory_encoder = LabelEncoder()\n",
    "\n",
    "df['Customer ID Enc'] = customer_encoder.fit_transform(df['Customer Name'])\n",
    "df['Product ID Enc'] = product_encoder.fit_transform(df['Product ID'])\n",
    "df['Category Enc'] = category_encoder.fit_transform(df['Category'])\n",
    "df['Sub-Category Enc'] = subcategory_encoder.fit_transform(df['Sub-Category'])"
   ]
  },
  {
   "cell_type": "code",
   "execution_count": 5,
   "id": "36d4fed1-f825-4194-a21b-7d19eab515a2",
   "metadata": {},
   "outputs": [],
   "source": [
    "# Normalizar as vendas\n",
    "\n",
    "scaler = MinMaxScaler()\n",
    "df['Sales Normalized'] = scaler.fit_transform(df[['Sales']])"
   ]
  },
  {
   "cell_type": "code",
   "execution_count": 6,
   "id": "7b6eda7f-f856-4197-b22d-a13f8e77409b",
   "metadata": {},
   "outputs": [],
   "source": [
    "# Criar um conjunto de dados TensorFlow\n",
    "\n",
    "customer_ids = df['Customer ID Enc'].values\n",
    "product_ids = df['Product ID Enc'].values\n",
    "category_ids = df['Category Enc'].values\n",
    "subcategory_ids = df['Sub-Category Enc'].values\n",
    "sales = df['Sales Normalized'].values"
   ]
  },
  {
   "cell_type": "code",
   "execution_count": 7,
   "id": "0e065b9d-eb14-46a1-be9b-a19e5488d769",
   "metadata": {},
   "outputs": [],
   "source": [
    "# Definir dimensões dos embeddings\n",
    "\n",
    "num_customers = len(customer_encoder.classes_)\n",
    "num_products = len(product_encoder.classes_)\n",
    "num_categories = len(category_encoder.classes_)\n",
    "num_subcategories = len(subcategory_encoder.classes_)\n",
    "embedding_dim = 16"
   ]
  },
  {
   "cell_type": "code",
   "execution_count": 8,
   "id": "e5bcfa99-3efd-4fe7-ab50-f9c39ca5b9b9",
   "metadata": {},
   "outputs": [],
   "source": [
    "# Criando os embeddings\n",
    "\n",
    "customer_embeddings = tf.keras.layers.Embedding(input_dim=num_customers, output_dim=embedding_dim)\n",
    "product_embeddings = tf.keras.layers.Embedding(input_dim=num_products, output_dim=embedding_dim)\n",
    "category_embeddings = tf.keras.layers.Embedding(input_dim=num_categories, output_dim=embedding_dim)\n",
    "subcategory_embeddings = tf.keras.layers.Embedding(input_dim=num_subcategories, output_dim=embedding_dim)"
   ]
  },
  {
   "cell_type": "code",
   "execution_count": 9,
   "id": "f5643f59-909a-407a-8d99-e8446f590ce9",
   "metadata": {},
   "outputs": [],
   "source": [
    "# Definição do modelo\n",
    "\n",
    "customer_input = tf.keras.layers.Input(shape=(1,))\n",
    "product_input = tf.keras.layers.Input(shape=(1,))\n",
    "category_input = tf.keras.layers.Input(shape=(1,))\n",
    "subcategory_input = tf.keras.layers.Input(shape=(1,))\n",
    "\n",
    "customer_vec = tf.keras.layers.Flatten()(customer_embeddings(customer_input))\n",
    "product_vec = tf.keras.layers.Flatten()(product_embeddings(product_input))\n",
    "category_vec = tf.keras.layers.Flatten()(category_embeddings(category_input))\n",
    "subcategory_vec = tf.keras.layers.Flatten()(subcategory_embeddings(subcategory_input))"
   ]
  },
  {
   "cell_type": "code",
   "execution_count": 10,
   "id": "ac756929-ef9e-4595-8649-a5461efc91f4",
   "metadata": {},
   "outputs": [],
   "source": [
    "# Concatenar todas as informações\n",
    "\n",
    "concat_vec = tf.keras.layers.Concatenate()([customer_vec, product_vec, category_vec, subcategory_vec])"
   ]
  },
  {
   "cell_type": "code",
   "execution_count": 11,
   "id": "330a20ae-6b0a-4c71-8b31-30f6175fb0f1",
   "metadata": {},
   "outputs": [],
   "source": [
    "# Camadas densas para aprender padrões\n",
    "\n",
    "dense_1 = tf.keras.layers.Dense(64, activation='relu')(concat_vec)\n",
    "dense_2 = tf.keras.layers.Dense(32, activation='relu')(dense_1)\n",
    "output = tf.keras.layers.Dense(1, activation='linear')(dense_2)\n",
    "\n",
    "model = tf.keras.Model([customer_input, product_input, category_input, subcategory_input], output)\n",
    "model.compile(optimizer='adam', loss='mse')"
   ]
  },
  {
   "cell_type": "code",
   "execution_count": 12,
   "id": "82ef7da1-bcc4-4016-9432-292dbb57f20d",
   "metadata": {},
   "outputs": [
    {
     "name": "stdout",
     "output_type": "stream",
     "text": [
      "Epoch 1/20\n",
      "\u001b[1m307/307\u001b[0m \u001b[32m━━━━━━━━━━━━━━━━━━━━\u001b[0m\u001b[37m\u001b[0m \u001b[1m4s\u001b[0m 3ms/step - loss: 9.4769e-04\n",
      "Epoch 2/20\n",
      "\u001b[1m307/307\u001b[0m \u001b[32m━━━━━━━━━━━━━━━━━━━━\u001b[0m\u001b[37m\u001b[0m \u001b[1m1s\u001b[0m 3ms/step - loss: 5.6021e-04\n",
      "Epoch 3/20\n",
      "\u001b[1m307/307\u001b[0m \u001b[32m━━━━━━━━━━━━━━━━━━━━\u001b[0m\u001b[37m\u001b[0m \u001b[1m1s\u001b[0m 3ms/step - loss: 2.3102e-04\n",
      "Epoch 4/20\n",
      "\u001b[1m307/307\u001b[0m \u001b[32m━━━━━━━━━━━━━━━━━━━━\u001b[0m\u001b[37m\u001b[0m \u001b[1m1s\u001b[0m 3ms/step - loss: 1.8066e-04\n",
      "Epoch 5/20\n",
      "\u001b[1m307/307\u001b[0m \u001b[32m━━━━━━━━━━━━━━━━━━━━\u001b[0m\u001b[37m\u001b[0m \u001b[1m1s\u001b[0m 3ms/step - loss: 1.0529e-04\n",
      "Epoch 6/20\n",
      "\u001b[1m307/307\u001b[0m \u001b[32m━━━━━━━━━━━━━━━━━━━━\u001b[0m\u001b[37m\u001b[0m \u001b[1m1s\u001b[0m 3ms/step - loss: 8.4916e-05\n",
      "Epoch 7/20\n",
      "\u001b[1m307/307\u001b[0m \u001b[32m━━━━━━━━━━━━━━━━━━━━\u001b[0m\u001b[37m\u001b[0m \u001b[1m1s\u001b[0m 3ms/step - loss: 5.7225e-05\n",
      "Epoch 8/20\n",
      "\u001b[1m307/307\u001b[0m \u001b[32m━━━━━━━━━━━━━━━━━━━━\u001b[0m\u001b[37m\u001b[0m \u001b[1m1s\u001b[0m 3ms/step - loss: 4.0977e-05\n",
      "Epoch 9/20\n",
      "\u001b[1m307/307\u001b[0m \u001b[32m━━━━━━━━━━━━━━━━━━━━\u001b[0m\u001b[37m\u001b[0m \u001b[1m1s\u001b[0m 3ms/step - loss: 3.0727e-05\n",
      "Epoch 10/20\n",
      "\u001b[1m307/307\u001b[0m \u001b[32m━━━━━━━━━━━━━━━━━━━━\u001b[0m\u001b[37m\u001b[0m \u001b[1m1s\u001b[0m 2ms/step - loss: 3.0608e-05\n",
      "Epoch 11/20\n",
      "\u001b[1m307/307\u001b[0m \u001b[32m━━━━━━━━━━━━━━━━━━━━\u001b[0m\u001b[37m\u001b[0m \u001b[1m1s\u001b[0m 3ms/step - loss: 4.5219e-05\n",
      "Epoch 12/20\n",
      "\u001b[1m307/307\u001b[0m \u001b[32m━━━━━━━━━━━━━━━━━━━━\u001b[0m\u001b[37m\u001b[0m \u001b[1m1s\u001b[0m 3ms/step - loss: 4.8688e-05\n",
      "Epoch 13/20\n",
      "\u001b[1m307/307\u001b[0m \u001b[32m━━━━━━━━━━━━━━━━━━━━\u001b[0m\u001b[37m\u001b[0m \u001b[1m1s\u001b[0m 3ms/step - loss: 6.6344e-05\n",
      "Epoch 14/20\n",
      "\u001b[1m307/307\u001b[0m \u001b[32m━━━━━━━━━━━━━━━━━━━━\u001b[0m\u001b[37m\u001b[0m \u001b[1m1s\u001b[0m 3ms/step - loss: 4.3252e-05\n",
      "Epoch 15/20\n",
      "\u001b[1m307/307\u001b[0m \u001b[32m━━━━━━━━━━━━━━━━━━━━\u001b[0m\u001b[37m\u001b[0m \u001b[1m1s\u001b[0m 3ms/step - loss: 5.0202e-05\n",
      "Epoch 16/20\n",
      "\u001b[1m307/307\u001b[0m \u001b[32m━━━━━━━━━━━━━━━━━━━━\u001b[0m\u001b[37m\u001b[0m \u001b[1m1s\u001b[0m 3ms/step - loss: 2.6487e-05\n",
      "Epoch 17/20\n",
      "\u001b[1m307/307\u001b[0m \u001b[32m━━━━━━━━━━━━━━━━━━━━\u001b[0m\u001b[37m\u001b[0m \u001b[1m1s\u001b[0m 3ms/step - loss: 2.2342e-05\n",
      "Epoch 18/20\n",
      "\u001b[1m307/307\u001b[0m \u001b[32m━━━━━━━━━━━━━━━━━━━━\u001b[0m\u001b[37m\u001b[0m \u001b[1m1s\u001b[0m 3ms/step - loss: 5.0083e-05\n",
      "Epoch 19/20\n",
      "\u001b[1m307/307\u001b[0m \u001b[32m━━━━━━━━━━━━━━━━━━━━\u001b[0m\u001b[37m\u001b[0m \u001b[1m1s\u001b[0m 3ms/step - loss: 2.6075e-05\n",
      "Epoch 20/20\n",
      "\u001b[1m307/307\u001b[0m \u001b[32m━━━━━━━━━━━━━━━━━━━━\u001b[0m\u001b[37m\u001b[0m \u001b[1m1s\u001b[0m 3ms/step - loss: 3.2138e-05\n"
     ]
    },
    {
     "data": {
      "text/plain": [
       "<keras.src.callbacks.history.History at 0x2c9585ebe10>"
      ]
     },
     "execution_count": 12,
     "metadata": {},
     "output_type": "execute_result"
    }
   ],
   "source": [
    "# Treinar o modelo\n",
    "\n",
    "model.fit([customer_ids, product_ids, category_ids, subcategory_ids], sales, epochs=20, batch_size=32, verbose=1)"
   ]
  },
  {
   "cell_type": "markdown",
   "id": "6b6ec2a9-d851-4182-80dc-feec0ef3a1f6",
   "metadata": {},
   "source": [
    "### NOTICE:\n",
    "\n",
    "\"Let's use the already trained model to generate the best recommendations for the customer, **Irene Maddox.\"**"
   ]
  },
  {
   "cell_type": "code",
   "execution_count": 14,
   "id": "9aaf6f5b-e778-479e-8416-b24273bad5b9",
   "metadata": {},
   "outputs": [],
   "source": [
    "# Obter o ID da cliente \"Irene Maddox\"\n",
    "\n",
    "irene_id = customer_encoder.transform(['Irene Maddox'])[0]"
   ]
  },
  {
   "cell_type": "code",
   "execution_count": 15,
   "id": "404123f9-c769-40dc-af9a-09e1b472d3e9",
   "metadata": {},
   "outputs": [
    {
     "name": "stdout",
     "output_type": "stream",
     "text": [
      "\u001b[1m59/59\u001b[0m \u001b[32m━━━━━━━━━━━━━━━━━━━━\u001b[0m\u001b[37m\u001b[0m \u001b[1m1s\u001b[0m 5ms/step\n"
     ]
    }
   ],
   "source": [
    "# Criar recomendações para Irene\n",
    "\n",
    "product_scores = model.predict([\n",
    "    np.full((num_products,), irene_id),\n",
    "    np.arange(num_products),\n",
    "    np.zeros(num_products),  # Categoria neutra\n",
    "    np.zeros(num_products)   # Subcategoria neutra\n",
    "])"
   ]
  },
  {
   "cell_type": "code",
   "execution_count": 16,
   "id": "3ca81636-07bb-4629-8550-570b877d5013",
   "metadata": {},
   "outputs": [],
   "source": [
    "# Obter os 7 melhores produtos recomendados\n",
    "\n",
    "recommended_product_ids = np.argsort(product_scores.flatten())[::-1][:7]\n",
    "recommended_products = product_encoder.inverse_transform(recommended_product_ids)"
   ]
  },
  {
   "cell_type": "code",
   "execution_count": 17,
   "id": "4aaeec4e-1177-4520-963b-18036b4ce1da",
   "metadata": {},
   "outputs": [],
   "source": [
    "# Criar um DataFrame para exibir as recomendações\n",
    "\n",
    "recommended_df = df[df['Product ID'].isin(recommended_products)][['Product ID', 'Product Name', 'Category', 'Sub-Category']].drop_duplicates()\n",
    "recommended_df = recommended_df.set_index('Product ID').loc[recommended_products].reset_index()\n",
    "\n",
    "recommended_df = pd.DataFrame({\n",
    "    'Product ID': recommended_products\n",
    "}).merge(df[['Product ID', 'Product Name', 'Category', 'Sub-Category']], on='Product ID', how='left').drop_duplicates()\n",
    "\n",
    "recommended_df.insert(0, 'Ranking', range(1, len(recommended_df) + 1))"
   ]
  },
  {
   "cell_type": "markdown",
   "id": "794b2abc-3310-44ba-9564-dfbe8c0b6faa",
   "metadata": {},
   "source": [
    "### NOTICE 2:\n",
    "\n",
    "Here are the top seven recommendations for **Irene Maddox.\"**"
   ]
  },
  {
   "cell_type": "code",
   "execution_count": 19,
   "id": "053148ab-b301-4e4f-af6c-8cfb2dff1197",
   "metadata": {},
   "outputs": [
    {
     "data": {
      "text/html": [
       "<div>\n",
       "<style scoped>\n",
       "    .dataframe tbody tr th:only-of-type {\n",
       "        vertical-align: middle;\n",
       "    }\n",
       "\n",
       "    .dataframe tbody tr th {\n",
       "        vertical-align: top;\n",
       "    }\n",
       "\n",
       "    .dataframe thead th {\n",
       "        text-align: right;\n",
       "    }\n",
       "</style>\n",
       "<table border=\"1\" class=\"dataframe\">\n",
       "  <thead>\n",
       "    <tr style=\"text-align: right;\">\n",
       "      <th></th>\n",
       "      <th>Ranking</th>\n",
       "      <th>Product ID</th>\n",
       "      <th>Product Name</th>\n",
       "      <th>Category</th>\n",
       "      <th>Sub-Category</th>\n",
       "    </tr>\n",
       "  </thead>\n",
       "  <tbody>\n",
       "    <tr>\n",
       "      <th>0</th>\n",
       "      <td>1</td>\n",
       "      <td>TEC-MA-10002412</td>\n",
       "      <td>Cisco TelePresence System EX90 Videoconferenci...</td>\n",
       "      <td>Technology</td>\n",
       "      <td>Machines</td>\n",
       "    </tr>\n",
       "    <tr>\n",
       "      <th>1</th>\n",
       "      <td>2</td>\n",
       "      <td>TEC-CO-10004722</td>\n",
       "      <td>Canon imageCLASS 2200 Advanced Copier</td>\n",
       "      <td>Technology</td>\n",
       "      <td>Copiers</td>\n",
       "    </tr>\n",
       "    <tr>\n",
       "      <th>6</th>\n",
       "      <td>3</td>\n",
       "      <td>OFF-BI-10001120</td>\n",
       "      <td>Ibico EPK-21 Electric Binding System</td>\n",
       "      <td>Office Supplies</td>\n",
       "      <td>Binders</td>\n",
       "    </tr>\n",
       "    <tr>\n",
       "      <th>9</th>\n",
       "      <td>4</td>\n",
       "      <td>TEC-AC-10003870</td>\n",
       "      <td>Logitech Z-906 Speaker sys - home theater - 5....</td>\n",
       "      <td>Technology</td>\n",
       "      <td>Accessories</td>\n",
       "    </tr>\n",
       "    <tr>\n",
       "      <th>13</th>\n",
       "      <td>5</td>\n",
       "      <td>TEC-PH-10002885</td>\n",
       "      <td>Apple iPhone 5</td>\n",
       "      <td>Technology</td>\n",
       "      <td>Phones</td>\n",
       "    </tr>\n",
       "    <tr>\n",
       "      <th>19</th>\n",
       "      <td>6</td>\n",
       "      <td>OFF-SU-10000151</td>\n",
       "      <td>High Speed Automatic Electric Letter Opener</td>\n",
       "      <td>Office Supplies</td>\n",
       "      <td>Supplies</td>\n",
       "    </tr>\n",
       "    <tr>\n",
       "      <th>22</th>\n",
       "      <td>7</td>\n",
       "      <td>FUR-CH-10004086</td>\n",
       "      <td>Hon 4070 Series Pagoda Armless Upholstered Sta...</td>\n",
       "      <td>Furniture</td>\n",
       "      <td>Chairs</td>\n",
       "    </tr>\n",
       "  </tbody>\n",
       "</table>\n",
       "</div>"
      ],
      "text/plain": [
       "    Ranking       Product ID  \\\n",
       "0         1  TEC-MA-10002412   \n",
       "1         2  TEC-CO-10004722   \n",
       "6         3  OFF-BI-10001120   \n",
       "9         4  TEC-AC-10003870   \n",
       "13        5  TEC-PH-10002885   \n",
       "19        6  OFF-SU-10000151   \n",
       "22        7  FUR-CH-10004086   \n",
       "\n",
       "                                         Product Name         Category  \\\n",
       "0   Cisco TelePresence System EX90 Videoconferenci...       Technology   \n",
       "1               Canon imageCLASS 2200 Advanced Copier       Technology   \n",
       "6                Ibico EPK-21 Electric Binding System  Office Supplies   \n",
       "9   Logitech Z-906 Speaker sys - home theater - 5....       Technology   \n",
       "13                                     Apple iPhone 5       Technology   \n",
       "19        High Speed Automatic Electric Letter Opener  Office Supplies   \n",
       "22  Hon 4070 Series Pagoda Armless Upholstered Sta...        Furniture   \n",
       "\n",
       "   Sub-Category  \n",
       "0      Machines  \n",
       "1       Copiers  \n",
       "6       Binders  \n",
       "9   Accessories  \n",
       "13       Phones  \n",
       "19     Supplies  \n",
       "22       Chairs  "
      ]
     },
     "execution_count": 19,
     "metadata": {},
     "output_type": "execute_result"
    }
   ],
   "source": [
    "# Dataframe com as top 7 recomendações para \"Irene Maddox\"\n",
    "\n",
    "recommended_df"
   ]
  },
  {
   "cell_type": "markdown",
   "id": "893c14d7-cc92-4521-ba17-b6aec6e20e1e",
   "metadata": {},
   "source": [
    "### NOTICE 3:\n",
    "\n",
    "Creating a function to generalize recommendations for any chosen customer."
   ]
  },
  {
   "cell_type": "code",
   "execution_count": 21,
   "id": "f5db98bf-5c52-4fe1-b9f5-060058ab2070",
   "metadata": {},
   "outputs": [],
   "source": [
    "# Função para determinar as melhores 7 recomendações para o cliente escolhido \n",
    "\n",
    "def recomendar_produtos(nome_cliente, df, model, customer_encoder, product_encoder, num_products):\n",
    "    \"\"\"\n",
    "    Retorna os 7 melhores produtos recomendados para um cliente específico.\n",
    "\n",
    "    Parâmetros:\n",
    "    - nome_cliente (str): Nome do cliente para gerar recomendações.\n",
    "    - df (DataFrame): DataFrame original contendo os dados.\n",
    "    - model (tf.keras.Model): Modelo treinado para recomendações.\n",
    "    - customer_encoder (LabelEncoder): Encoder dos nomes dos clientes.\n",
    "    - product_encoder (LabelEncoder): Encoder dos produtos.\n",
    "    - num_products (int): Número total de produtos.\n",
    "\n",
    "    Retorno:\n",
    "    - DataFrame com os 7 produtos recomendados.\n",
    "    \"\"\"\n",
    "    try:\n",
    "        cliente_id = customer_encoder.transform([nome_cliente])[0]\n",
    "    except ValueError:\n",
    "        # Cliente não encontrado, atribuímos um ID fictício (-1)\n",
    "        cliente_id = -1\n",
    "\n",
    "    if cliente_id == -1:\n",
    "        # Cliente novo → Recomendação baseada nos produtos mais vendidos\n",
    "        produtos_mais_vendidos = (\n",
    "            df.groupby(\"Product ID\")[\"Sales\"]\n",
    "            .sum()\n",
    "            .reset_index()\n",
    "            .sort_values(by=\"Sales\", ascending=False)\n",
    "            .head(7)\n",
    "        )\n",
    "        recommended_products = product_encoder.inverse_transform(produtos_mais_vendidos[\"Product ID\"].values)\n",
    "    else:\n",
    "        # Cliente conhecido → Prever pontuação para todos os produtos\n",
    "        product_scores = model.predict([\n",
    "            np.full((num_products,), cliente_id),\n",
    "            np.arange(num_products),\n",
    "            np.zeros(num_products),\n",
    "            np.zeros(num_products)\n",
    "        ])\n",
    "\n",
    "        # Obter os 7 melhores produtos recomendados\n",
    "        recommended_product_ids = np.argsort(product_scores.flatten())[::-1][:7]\n",
    "        recommended_products = product_encoder.inverse_transform(recommended_product_ids)\n",
    "\n",
    "    # Criar um DataFrame com as recomendações\n",
    "    recommended_df = pd.DataFrame({'Product ID': recommended_products})\n",
    "    recommended_df = recommended_df.merge(\n",
    "        df[['Product ID', 'Product Name', 'Category', 'Sub-Category']],\n",
    "        on='Product ID',\n",
    "        how='left'\n",
    "    ).drop_duplicates()\n",
    "\n",
    "    recommended_df.insert(0, 'Ranking', range(1, len(recommended_df) + 1))\n",
    "\n",
    "    return recommended_df"
   ]
  },
  {
   "cell_type": "markdown",
   "id": "91c70a27-988a-4575-a2e4-89cf0c03cb6e",
   "metadata": {},
   "source": [
    "### NOTICE 4:\n",
    "\n",
    "Testing the function for the customer **\"Darrin Van Huff.\"**"
   ]
  },
  {
   "cell_type": "code",
   "execution_count": 23,
   "id": "d0533681-1357-48a1-9ff3-5f6e14600537",
   "metadata": {},
   "outputs": [
    {
     "name": "stdout",
     "output_type": "stream",
     "text": [
      "\u001b[1m59/59\u001b[0m \u001b[32m━━━━━━━━━━━━━━━━━━━━\u001b[0m\u001b[37m\u001b[0m \u001b[1m0s\u001b[0m 2ms/step\n",
      "______________________________________________________________________________________________________________________________________________________\n",
      "Recomendações sugeridas:\n",
      "______________________________________________________________________________________________________________________________________________________\n"
     ]
    }
   ],
   "source": [
    "# Utilizando a função\n",
    "\n",
    "resultado = recomendar_produtos(\"Darrin Van Huff\", df, model, customer_encoder, product_encoder, num_products)\n",
    "\n",
    "print(50*'___')\n",
    "print(\"Recomendações sugeridas:\")\n",
    "print(50*'___')\n"
   ]
  },
  {
   "cell_type": "code",
   "execution_count": 24,
   "id": "91113f14-51f0-4110-8063-10c400e60a43",
   "metadata": {},
   "outputs": [
    {
     "data": {
      "text/html": [
       "<div>\n",
       "<style scoped>\n",
       "    .dataframe tbody tr th:only-of-type {\n",
       "        vertical-align: middle;\n",
       "    }\n",
       "\n",
       "    .dataframe tbody tr th {\n",
       "        vertical-align: top;\n",
       "    }\n",
       "\n",
       "    .dataframe thead th {\n",
       "        text-align: right;\n",
       "    }\n",
       "</style>\n",
       "<table border=\"1\" class=\"dataframe\">\n",
       "  <thead>\n",
       "    <tr style=\"text-align: right;\">\n",
       "      <th></th>\n",
       "      <th>Ranking</th>\n",
       "      <th>Product ID</th>\n",
       "      <th>Product Name</th>\n",
       "      <th>Category</th>\n",
       "      <th>Sub-Category</th>\n",
       "    </tr>\n",
       "  </thead>\n",
       "  <tbody>\n",
       "    <tr>\n",
       "      <th>0</th>\n",
       "      <td>1</td>\n",
       "      <td>TEC-MA-10002412</td>\n",
       "      <td>Cisco TelePresence System EX90 Videoconferenci...</td>\n",
       "      <td>Technology</td>\n",
       "      <td>Machines</td>\n",
       "    </tr>\n",
       "    <tr>\n",
       "      <th>1</th>\n",
       "      <td>2</td>\n",
       "      <td>TEC-CO-10004722</td>\n",
       "      <td>Canon imageCLASS 2200 Advanced Copier</td>\n",
       "      <td>Technology</td>\n",
       "      <td>Copiers</td>\n",
       "    </tr>\n",
       "    <tr>\n",
       "      <th>6</th>\n",
       "      <td>3</td>\n",
       "      <td>OFF-BI-10001120</td>\n",
       "      <td>Ibico EPK-21 Electric Binding System</td>\n",
       "      <td>Office Supplies</td>\n",
       "      <td>Binders</td>\n",
       "    </tr>\n",
       "    <tr>\n",
       "      <th>9</th>\n",
       "      <td>4</td>\n",
       "      <td>OFF-SU-10000151</td>\n",
       "      <td>High Speed Automatic Electric Letter Opener</td>\n",
       "      <td>Office Supplies</td>\n",
       "      <td>Supplies</td>\n",
       "    </tr>\n",
       "    <tr>\n",
       "      <th>12</th>\n",
       "      <td>5</td>\n",
       "      <td>TEC-PH-10002885</td>\n",
       "      <td>Apple iPhone 5</td>\n",
       "      <td>Technology</td>\n",
       "      <td>Phones</td>\n",
       "    </tr>\n",
       "    <tr>\n",
       "      <th>18</th>\n",
       "      <td>6</td>\n",
       "      <td>OFF-AP-10000275</td>\n",
       "      <td>Sanyo Counter Height Refrigerator with Crisper...</td>\n",
       "      <td>Office Supplies</td>\n",
       "      <td>Appliances</td>\n",
       "    </tr>\n",
       "    <tr>\n",
       "      <th>21</th>\n",
       "      <td>7</td>\n",
       "      <td>OFF-BI-10000545</td>\n",
       "      <td>GBC Ibimaster 500 Manual ProClick Binding System</td>\n",
       "      <td>Office Supplies</td>\n",
       "      <td>Binders</td>\n",
       "    </tr>\n",
       "  </tbody>\n",
       "</table>\n",
       "</div>"
      ],
      "text/plain": [
       "    Ranking       Product ID  \\\n",
       "0         1  TEC-MA-10002412   \n",
       "1         2  TEC-CO-10004722   \n",
       "6         3  OFF-BI-10001120   \n",
       "9         4  OFF-SU-10000151   \n",
       "12        5  TEC-PH-10002885   \n",
       "18        6  OFF-AP-10000275   \n",
       "21        7  OFF-BI-10000545   \n",
       "\n",
       "                                         Product Name         Category  \\\n",
       "0   Cisco TelePresence System EX90 Videoconferenci...       Technology   \n",
       "1               Canon imageCLASS 2200 Advanced Copier       Technology   \n",
       "6                Ibico EPK-21 Electric Binding System  Office Supplies   \n",
       "9         High Speed Automatic Electric Letter Opener  Office Supplies   \n",
       "12                                     Apple iPhone 5       Technology   \n",
       "18  Sanyo Counter Height Refrigerator with Crisper...  Office Supplies   \n",
       "21   GBC Ibimaster 500 Manual ProClick Binding System  Office Supplies   \n",
       "\n",
       "   Sub-Category  \n",
       "0      Machines  \n",
       "1       Copiers  \n",
       "6       Binders  \n",
       "9      Supplies  \n",
       "12       Phones  \n",
       "18   Appliances  \n",
       "21      Binders  "
      ]
     },
     "execution_count": 24,
     "metadata": {},
     "output_type": "execute_result"
    }
   ],
   "source": [
    "# Dataframe com as top 7 recomendações para \"Darrin Van Huff\"\n",
    "\n",
    "resultado"
   ]
  },
  {
   "cell_type": "markdown",
   "id": "ff5c9a6d-af05-473f-a95d-c698f7d65555",
   "metadata": {},
   "source": [
    "### CONCLUSION:"
   ]
  },
  {
   "cell_type": "markdown",
   "id": "d8a469de-75ef-4e35-b007-3a9591333ac9",
   "metadata": {},
   "source": [
    "We now have a versatile and scalable model that can provide the best recommendations for any selected customer."
   ]
  }
 ],
 "metadata": {
  "kernelspec": {
   "display_name": "Python 3.11 (TensorFlow)",
   "language": "python",
   "name": "meu_env_python3.11"
  },
  "language_info": {
   "codemirror_mode": {
    "name": "ipython",
    "version": 3
   },
   "file_extension": ".py",
   "mimetype": "text/x-python",
   "name": "python",
   "nbconvert_exporter": "python",
   "pygments_lexer": "ipython3",
   "version": "3.11.11"
  }
 },
 "nbformat": 4,
 "nbformat_minor": 5
}
