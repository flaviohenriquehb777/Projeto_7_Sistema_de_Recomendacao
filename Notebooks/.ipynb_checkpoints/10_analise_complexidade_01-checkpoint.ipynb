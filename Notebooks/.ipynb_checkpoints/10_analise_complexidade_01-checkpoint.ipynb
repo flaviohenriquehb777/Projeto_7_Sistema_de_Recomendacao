{
 "cells": [
  {
   "cell_type": "markdown",
   "metadata": {},
   "source": [
    "# Complexidade"
   ]
  },
  {
   "cell_type": "code",
   "execution_count": 1,
   "metadata": {
    "metadata": {}
   },
   "outputs": [],
   "source": [
    "import matplotlib.pyplot as plt\n",
    "import pandas as pd\n",
    "import seaborn as sns\n",
    "\n",
    "from sklearn.compose import ColumnTransformer\n",
    "from sklearn.dummy import DummyRegressor\n",
    "from sklearn.linear_model import LinearRegression\n",
    "from sklearn.preprocessing import (\n",
    "    OrdinalEncoder,\n",
    "    OneHotEncoder,\n",
    "    PowerTransformer,\n",
    "    StandardScaler,\n",
    "    QuantileTransformer,\n",
    ")\n",
    "\n",
    "from src.config import DADOS_CATEGORIZADOS\n",
    "from src.modelos import organiza_resultados, treinar_e_validar_modelo_regressao\n",
    "\n",
    "sns.set_theme(palette=\"bright\")\n",
    "\n",
    "RANDOM_STATE = 42"
   ]
  },
  {
   "cell_type": "code",
   "execution_count": 2,
   "metadata": {
    "metadata": {}
   },
   "outputs": [
    {
     "data": {
      "text/html": [
       "<div>\n",
       "<style scoped>\n",
       "    .dataframe tbody tr th:only-of-type {\n",
       "        vertical-align: middle;\n",
       "    }\n",
       "\n",
       "    .dataframe tbody tr th {\n",
       "        vertical-align: top;\n",
       "    }\n",
       "\n",
       "    .dataframe thead th {\n",
       "        text-align: right;\n",
       "    }\n",
       "</style>\n",
       "<table border=\"1\" class=\"dataframe\">\n",
       "  <thead>\n",
       "    <tr style=\"text-align: right;\">\n",
       "      <th></th>\n",
       "      <th>idade</th>\n",
       "      <th>sexo</th>\n",
       "      <th>imc</th>\n",
       "      <th>pressao_media</th>\n",
       "      <th>colesterol_total</th>\n",
       "      <th>ldl</th>\n",
       "      <th>hdl</th>\n",
       "      <th>triglicerides</th>\n",
       "      <th>glicose</th>\n",
       "      <th>target</th>\n",
       "      <th>colesterol_hdl_cat</th>\n",
       "    </tr>\n",
       "  </thead>\n",
       "  <tbody>\n",
       "    <tr>\n",
       "      <th>0</th>\n",
       "      <td>59</td>\n",
       "      <td>2</td>\n",
       "      <td>32.099998</td>\n",
       "      <td>101.0</td>\n",
       "      <td>157</td>\n",
       "      <td>93.199997</td>\n",
       "      <td>38.0</td>\n",
       "      <td>4.8598</td>\n",
       "      <td>87</td>\n",
       "      <td>151</td>\n",
       "      <td>4-5</td>\n",
       "    </tr>\n",
       "    <tr>\n",
       "      <th>1</th>\n",
       "      <td>48</td>\n",
       "      <td>1</td>\n",
       "      <td>21.600000</td>\n",
       "      <td>87.0</td>\n",
       "      <td>183</td>\n",
       "      <td>103.199997</td>\n",
       "      <td>70.0</td>\n",
       "      <td>3.8918</td>\n",
       "      <td>69</td>\n",
       "      <td>75</td>\n",
       "      <td>2-3</td>\n",
       "    </tr>\n",
       "    <tr>\n",
       "      <th>2</th>\n",
       "      <td>72</td>\n",
       "      <td>2</td>\n",
       "      <td>30.500000</td>\n",
       "      <td>93.0</td>\n",
       "      <td>156</td>\n",
       "      <td>93.599998</td>\n",
       "      <td>41.0</td>\n",
       "      <td>4.6728</td>\n",
       "      <td>85</td>\n",
       "      <td>141</td>\n",
       "      <td>4-5</td>\n",
       "    </tr>\n",
       "    <tr>\n",
       "      <th>3</th>\n",
       "      <td>24</td>\n",
       "      <td>1</td>\n",
       "      <td>25.299999</td>\n",
       "      <td>84.0</td>\n",
       "      <td>198</td>\n",
       "      <td>131.399994</td>\n",
       "      <td>40.0</td>\n",
       "      <td>4.8903</td>\n",
       "      <td>89</td>\n",
       "      <td>206</td>\n",
       "      <td>4-5</td>\n",
       "    </tr>\n",
       "    <tr>\n",
       "      <th>4</th>\n",
       "      <td>50</td>\n",
       "      <td>1</td>\n",
       "      <td>23.000000</td>\n",
       "      <td>101.0</td>\n",
       "      <td>192</td>\n",
       "      <td>125.400002</td>\n",
       "      <td>52.0</td>\n",
       "      <td>4.2905</td>\n",
       "      <td>80</td>\n",
       "      <td>135</td>\n",
       "      <td>4-5</td>\n",
       "    </tr>\n",
       "  </tbody>\n",
       "</table>\n",
       "</div>"
      ],
      "text/plain": [
       "   idade  sexo        imc  pressao_media  colesterol_total         ldl   hdl  \\\n",
       "0     59     2  32.099998          101.0               157   93.199997  38.0   \n",
       "1     48     1  21.600000           87.0               183  103.199997  70.0   \n",
       "2     72     2  30.500000           93.0               156   93.599998  41.0   \n",
       "3     24     1  25.299999           84.0               198  131.399994  40.0   \n",
       "4     50     1  23.000000          101.0               192  125.400002  52.0   \n",
       "\n",
       "   triglicerides  glicose  target colesterol_hdl_cat  \n",
       "0         4.8598       87     151                4-5  \n",
       "1         3.8918       69      75                2-3  \n",
       "2         4.6728       85     141                4-5  \n",
       "3         4.8903       89     206                4-5  \n",
       "4         4.2905       80     135                4-5  "
      ]
     },
     "execution_count": 2,
     "metadata": {},
     "output_type": "execute_result"
    }
   ],
   "source": [
    "df = pd.read_parquet(DADOS_CATEGORIZADOS)\n",
    "\n",
    "df.head()"
   ]
  },
  {
   "cell_type": "code",
   "execution_count": 3,
   "metadata": {},
   "outputs": [
    {
     "name": "stdout",
     "output_type": "stream",
     "text": [
      "<class 'pandas.core.frame.DataFrame'>\n",
      "RangeIndex: 442 entries, 0 to 441\n",
      "Data columns (total 11 columns):\n",
      " #   Column              Non-Null Count  Dtype   \n",
      "---  ------              --------------  -----   \n",
      " 0   idade               442 non-null    int8    \n",
      " 1   sexo                442 non-null    int8    \n",
      " 2   imc                 442 non-null    float32 \n",
      " 3   pressao_media       442 non-null    float32 \n",
      " 4   colesterol_total    442 non-null    int16   \n",
      " 5   ldl                 442 non-null    float32 \n",
      " 6   hdl                 442 non-null    float32 \n",
      " 7   triglicerides       442 non-null    float32 \n",
      " 8   glicose             442 non-null    int8    \n",
      " 9   target              442 non-null    int16   \n",
      " 10  colesterol_hdl_cat  442 non-null    category\n",
      "dtypes: category(1), float32(5), int16(2), int8(3)\n",
      "memory usage: 12.3 KB\n"
     ]
    }
   ],
   "source": [
    "df.info()"
   ]
  },
  {
   "cell_type": "code",
   "execution_count": 4,
   "metadata": {},
   "outputs": [],
   "source": [
    "X = df.drop(columns=\"target\")\n",
    "y = df[\"target\"]"
   ]
  },
  {
   "cell_type": "code",
   "execution_count": 5,
   "metadata": {},
   "outputs": [
    {
     "data": {
      "text/plain": [
       "['idade', 'pressao_media', 'triglicerides', 'glicose']"
      ]
     },
     "execution_count": 5,
     "metadata": {},
     "output_type": "execute_result"
    }
   ],
   "source": [
    "colunas_power_transform = [\"imc\", \"ldl\", \"hdl\", \"colesterol_total\"]\n",
    "\n",
    "coluna_target = [\"target\"]\n",
    "\n",
    "coluna_ordinal_encoder = [\"colesterol_hdl_cat\"]\n",
    "\n",
    "coluna_one_hot_encoder = [\"sexo\"]\n",
    "\n",
    "colunas_standard_scaler = [\n",
    "    coluna\n",
    "    for coluna in df.columns\n",
    "    if coluna not in colunas_power_transform + coluna_target + coluna_ordinal_encoder + coluna_one_hot_encoder\n",
    "]\n",
    "\n",
    "colunas_standard_scaler"
   ]
  },
  {
   "cell_type": "code",
   "execution_count": 6,
   "metadata": {},
   "outputs": [],
   "source": [
    "categorias_ordinal_encoder = [\n",
    "    [\"2-3\", \"4-5\", \"6+\"],\n",
    "]"
   ]
  },
  {
   "cell_type": "code",
   "execution_count": 8,
   "metadata": {},
   "outputs": [
    {
     "data": {
      "text/plain": [
       "Index(['colesterol_total', 'glicose', 'hdl', 'idade', 'imc', 'ldl',\n",
       "       'pressao_media', 'triglicerides'],\n",
       "      dtype='object')"
      ]
     },
     "execution_count": 8,
     "metadata": {},
     "output_type": "execute_result"
    }
   ],
   "source": [
    "X.columns.difference(coluna_ordinal_encoder + coluna_one_hot_encoder)"
   ]
  },
  {
   "cell_type": "code",
   "execution_count": 9,
   "metadata": {},
   "outputs": [],
   "source": [
    "preprocessamento_categoricas = ColumnTransformer(\n",
    "    transformers=[\n",
    "        (\"ordinal_encoder\", OrdinalEncoder(categories=categorias_ordinal_encoder), coluna_ordinal_encoder),\n",
    "        (\"one_hot_encoder\", OneHotEncoder(drop=\"if_binary\"), coluna_one_hot_encoder),\n",
    "    ],\n",
    "    remainder=\"passthrough\", # Isso é para as restantes colunas deixar como está. Ou seja, não fazer nada com as demais colunas.\n",
    ")\n",
    "\n",
    "preprocessamento_simples = ColumnTransformer(\n",
    "    transformers=[\n",
    "        (\"ordinal_encoder\", OrdinalEncoder(categories=categorias_ordinal_encoder), coluna_ordinal_encoder),\n",
    "        (\"one_hot_encoder\", OneHotEncoder(drop=\"if_binary\"), coluna_one_hot_encoder),\n",
    "        (\"standard_scaler\", StandardScaler(), X.columns.difference(coluna_ordinal_encoder + coluna_one_hot_encoder)),\n",
    "    ],\n",
    "    remainder=\"passthrough\",\n",
    ")\n",
    "\n",
    "preprocessamento_completo = ColumnTransformer(\n",
    "    [\n",
    "        (\"power_transform\", PowerTransformer(method=\"box-cox\"), colunas_power_transform),\n",
    "        (\"standard_scaler\", StandardScaler(), colunas_standard_scaler),\n",
    "        (\"ordinal_encoder\", OrdinalEncoder(categories=categorias_ordinal_encoder), coluna_ordinal_encoder),\n",
    "        (\"one_hot_encoder\", OneHotEncoder(drop=\"if_binary\"), coluna_one_hot_encoder),\n",
    "    ]\n",
    ")"
   ]
  },
  {
   "cell_type": "code",
   "execution_count": 10,
   "metadata": {},
   "outputs": [],
   "source": [
    "target_transformer = QuantileTransformer(n_quantiles=20, output_distribution=\"normal\")"
   ]
  },
  {
   "cell_type": "code",
   "execution_count": 11,
   "metadata": {},
   "outputs": [],
   "source": [
    "regressors = {\n",
    "    \"DummyRegressor\": {\n",
    "        \"preprocessor\": None,\n",
    "        \"regressor\": DummyRegressor(strategy=\"mean\"),\n",
    "        \"target_transformer\": None,\n",
    "    },\n",
    "    \"LinearRegression_pre_cat\": {\n",
    "        \"preprocessor\": preprocessamento_categoricas,\n",
    "        \"regressor\": LinearRegression(),\n",
    "        \"target_transformer\": None,\n",
    "    },\n",
    "    \"LinearRegression_pre_simples\": {\n",
    "        \"preprocessor\": preprocessamento_simples,\n",
    "        \"regressor\": LinearRegression(),\n",
    "        \"target_transformer\": None,\n",
    "    },\n",
    "    \"LinearRegression_pre_completo\": {\n",
    "        \"preprocessor\": preprocessamento_completo,\n",
    "        \"regressor\": LinearRegression(),\n",
    "        \"target_transformer\": None,\n",
    "    },\n",
    "    \"LinearRegression_pre_completo_target\": {\n",
    "        \"preprocessor\": preprocessamento_completo,\n",
    "        \"regressor\": LinearRegression(),\n",
    "        \"target_transformer\": target_transformer,\n",
    "    },\n",
    "}"
   ]
  },
  {
   "cell_type": "code",
   "execution_count": null,
   "metadata": {},
   "outputs": [],
   "source": []
  }
 ],
 "metadata": {
  "kernelspec": {
   "display_name": "Python 3 (ipykernel)",
   "language": "python",
   "name": "python3"
  },
  "language_info": {
   "codemirror_mode": {
    "name": "ipython",
    "version": 3
   },
   "file_extension": ".py",
   "mimetype": "text/x-python",
   "name": "python",
   "nbconvert_exporter": "python",
   "pygments_lexer": "ipython3",
   "version": "3.12.4"
  }
 },
 "nbformat": 4,
 "nbformat_minor": 4
}
