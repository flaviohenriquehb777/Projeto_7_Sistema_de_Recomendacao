{
 "cells": [
  {
   "cell_type": "markdown",
   "metadata": {},
   "source": [
    "# Outros modelos"
   ]
  },
  {
   "cell_type": "code",
   "execution_count": null,
   "metadata": {
    "metadata": {}
   },
   "outputs": [],
   "source": [
    "import matplotlib.pyplot as plt\n",
    "import pandas as pd\n",
    "import seaborn as sns\n",
    "\n",
    "from sklearn.compose import ColumnTransformer\n",
    "from sklearn.dummy import DummyRegressor\n",
    "from sklearn.linear_model import ElasticNet, LinearRegression, Lasso, Ridge\n",
    "from sklearn.preprocessing import (\n",
    "    OrdinalEncoder,\n",
    "    OneHotEncoder,\n",
    "    PowerTransformer,\n",
    "    StandardScaler,\n",
    "    QuantileTransformer,\n",
    ")\n",
    "\n",
    "from src.config import DADOS_CATEGORIZADOS\n",
    "from src.modelos import organiza_resultados, treinar_e_validar_modelo_regressao\n",
    "\n",
    "sns.set_theme(palette=\"bright\")\n",
    "\n",
    "RANDOM_STATE = 42"
   ]
  },
  {
   "cell_type": "code",
   "execution_count": null,
   "metadata": {
    "metadata": {}
   },
   "outputs": [],
   "source": [
    "df = pd.read_parquet(DADOS_CATEGORIZADOS)\n",
    "\n",
    "df.head()"
   ]
  },
  {
   "cell_type": "code",
   "execution_count": null,
   "metadata": {},
   "outputs": [],
   "source": [
    "df.info()"
   ]
  },
  {
   "cell_type": "code",
   "execution_count": null,
   "metadata": {},
   "outputs": [],
   "source": [
    "X = df.drop(columns=\"target\")\n",
    "y = df[\"target\"]"
   ]
  },
  {
   "cell_type": "code",
   "execution_count": null,
   "metadata": {},
   "outputs": [],
   "source": [
    "colunas_power_transform = [\"imc\", \"ldl\", \"hdl\", \"colesterol_total\"]\n",
    "\n",
    "coluna_target = [\"target\"]\n",
    "\n",
    "coluna_ordinal_encoder = [\"colesterol_hdl_cat\"]\n",
    "\n",
    "coluna_one_hot_encoder = [\"sexo\"]\n",
    "\n",
    "colunas_standard_scaler = [\n",
    "    coluna\n",
    "    for coluna in df.columns\n",
    "    if coluna not in colunas_power_transform + coluna_target + coluna_ordinal_encoder + coluna_one_hot_encoder\n",
    "]\n",
    "\n",
    "colunas_standard_scaler"
   ]
  },
  {
   "cell_type": "code",
   "execution_count": null,
   "metadata": {},
   "outputs": [],
   "source": [
    "categorias_ordinal_encoder = [\n",
    "    [\"2-3\", \"4-5\", \"6+\"],\n",
    "]"
   ]
  },
  {
   "cell_type": "code",
   "execution_count": null,
   "metadata": {},
   "outputs": [],
   "source": [
    "X.columns.difference(coluna_ordinal_encoder + coluna_one_hot_encoder)"
   ]
  },
  {
   "cell_type": "code",
   "execution_count": null,
   "metadata": {},
   "outputs": [],
   "source": [
    "preprocessamento_categoricas = ColumnTransformer(\n",
    "    transformers=[\n",
    "        (\"ordinal_encoder\", OrdinalEncoder(categories=categorias_ordinal_encoder), coluna_ordinal_encoder),\n",
    "        (\"one_hot_encoder\", OneHotEncoder(drop=\"if_binary\"), coluna_one_hot_encoder),\n",
    "    ],\n",
    "    remainder=\"passthrough\",\n",
    ")\n",
    "\n",
    "preprocessamento_simples = ColumnTransformer(\n",
    "    transformers=[\n",
    "        (\"ordinal_encoder\", OrdinalEncoder(categories=categorias_ordinal_encoder), coluna_ordinal_encoder),\n",
    "        (\"one_hot_encoder\", OneHotEncoder(drop=\"if_binary\"), coluna_one_hot_encoder),\n",
    "        (\"standard_scaler\", StandardScaler(), X.columns.difference(coluna_ordinal_encoder + coluna_one_hot_encoder)),\n",
    "    ],\n",
    "    remainder=\"passthrough\",\n",
    ")\n",
    "\n",
    "preprocessamento_completo = ColumnTransformer(\n",
    "    [\n",
    "        (\"power_transform\", PowerTransformer(method=\"box-cox\"), colunas_power_transform),\n",
    "        (\"standard_scaler\", StandardScaler(), colunas_standard_scaler),\n",
    "        (\"ordinal_encoder\", OrdinalEncoder(categories=categorias_ordinal_encoder), coluna_ordinal_encoder),\n",
    "        (\"one_hot_encoder\", OneHotEncoder(drop=\"if_binary\"), coluna_one_hot_encoder),\n",
    "    ]\n",
    ")"
   ]
  },
  {
   "cell_type": "code",
   "execution_count": null,
   "metadata": {},
   "outputs": [],
   "source": [
    "target_transformer = QuantileTransformer(n_quantiles=20, output_distribution=\"normal\")"
   ]
  },
  {
   "cell_type": "code",
   "execution_count": null,
   "metadata": {},
   "outputs": [],
   "source": [
    "regressors = {\n",
    "    \"DummyRegressor\": {\n",
    "        \"preprocessor\": None,\n",
    "        \"regressor\": DummyRegressor(strategy=\"mean\"),\n",
    "        \"target_transformer\": None,\n",
    "    },\n",
    "    \"LinearRegression_pre_cat\": {\n",
    "        \"preprocessor\": preprocessamento_categoricas,\n",
    "        \"regressor\": LinearRegression(),\n",
    "        \"target_transformer\": None,\n",
    "    },\n",
    "    \"LinearRegression_pre_simples\": {\n",
    "        \"preprocessor\": preprocessamento_simples,\n",
    "        \"regressor\": LinearRegression(),\n",
    "        \"target_transformer\": None,\n",
    "    },\n",
    "    \"LinearRegression_pre_completo\": {\n",
    "        \"preprocessor\": preprocessamento_completo,\n",
    "        \"regressor\": LinearRegression(),\n",
    "        \"target_transformer\": None,\n",
    "    },\n",
    "    \"LinearRegression_pre_completo_target\": {\n",
    "        \"preprocessor\": preprocessamento_completo,\n",
    "        \"regressor\": LinearRegression(),\n",
    "        \"target_transformer\": target_transformer,\n",
    "    },\n",
    "}"
   ]
  },
  {
   "cell_type": "code",
   "execution_count": null,
   "metadata": {},
   "outputs": [],
   "source": [
    "resultados = {\n",
    "    nome_modelo: treinar_e_validar_modelo_regressao(X, y, **regressor)\n",
    "    for nome_modelo, regressor in regressors.items()\n",
    "}"
   ]
  },
  {
   "cell_type": "code",
   "execution_count": null,
   "metadata": {},
   "outputs": [],
   "source": [
    "resultados"
   ]
  },
  {
   "cell_type": "code",
   "execution_count": null,
   "metadata": {},
   "outputs": [],
   "source": [
    "df_resultados = organiza_resultados(resultados)\n",
    "\n",
    "df_resultados"
   ]
  },
  {
   "cell_type": "code",
   "execution_count": null,
   "metadata": {},
   "outputs": [],
   "source": [
    "fig, axs = plt.subplots(2, 2, figsize=(8, 8), sharex=True)\n",
    "\n",
    "comparar_metricas = [\n",
    "    \"time_seconds\",\n",
    "    \"test_r2\",\n",
    "    \"test_neg_mean_absolute_error\",\n",
    "    \"test_neg_root_mean_squared_error\",\n",
    "]\n",
    "\n",
    "nomes_metricas = [\n",
    "    \"Tempo (s)\",\n",
    "    \"R2\",\n",
    "    \"MAE\",\n",
    "    \"RMSE\"\n",
    "]\n",
    "\n",
    "for ax, metrica, nome in zip(axs.flatten(), comparar_metricas, nomes_metricas):\n",
    "    sns.boxplot(\n",
    "        x=\"model\",\n",
    "        y=metrica,\n",
    "        data=df_resultados,\n",
    "        ax=ax,\n",
    "        showmeans=True\n",
    "    )\n",
    "    ax.set_title(nome)\n",
    "    ax.set_ylabel(nome)\n",
    "    ax.tick_params(axis=\"x\", rotation=90)\n",
    "\n",
    "plt.tight_layout()\n",
    "plt.show()"
   ]
  }
 ],
 "metadata": {
  "kernelspec": {
   "display_name": "Python 3 (ipykernel)",
   "language": "python",
   "name": "python3"
  },
  "language_info": {
   "codemirror_mode": {
    "name": "ipython",
    "version": 3
   },
   "file_extension": ".py",
   "mimetype": "text/x-python",
   "name": "python",
   "nbconvert_exporter": "python",
   "pygments_lexer": "ipython3",
   "version": "3.12.4"
  }
 },
 "nbformat": 4,
 "nbformat_minor": 4
}
