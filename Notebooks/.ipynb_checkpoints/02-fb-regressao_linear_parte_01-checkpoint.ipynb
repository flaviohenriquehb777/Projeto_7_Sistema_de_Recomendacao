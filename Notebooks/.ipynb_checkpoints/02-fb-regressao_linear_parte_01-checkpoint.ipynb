{
 "cells": [
  {
   "cell_type": "code",
   "execution_count": 1,
   "metadata": {},
   "outputs": [],
   "source": [
    "import matplotlib.pyplot as plt\n",
    "import pandas as pd\n",
    "import seaborn as sns\n",
    "\n",
    "from src.config import DADOS_TRATADOS\n",
    "\n",
    "sns.set_theme(palette=\"bright\")"
   ]
  },
  {
   "cell_type": "code",
   "execution_count": 3,
   "metadata": {},
   "outputs": [
    {
     "data": {
      "text/html": [
       "<div>\n",
       "<style scoped>\n",
       "    .dataframe tbody tr th:only-of-type {\n",
       "        vertical-align: middle;\n",
       "    }\n",
       "\n",
       "    .dataframe tbody tr th {\n",
       "        vertical-align: top;\n",
       "    }\n",
       "\n",
       "    .dataframe thead th {\n",
       "        text-align: right;\n",
       "    }\n",
       "</style>\n",
       "<table border=\"1\" class=\"dataframe\">\n",
       "  <thead>\n",
       "    <tr style=\"text-align: right;\">\n",
       "      <th></th>\n",
       "      <th>idade</th>\n",
       "      <th>sexo</th>\n",
       "      <th>imc</th>\n",
       "      <th>pressao_media</th>\n",
       "      <th>colesterol_total</th>\n",
       "      <th>ldl</th>\n",
       "      <th>hdl</th>\n",
       "      <th>colesterol_hdl</th>\n",
       "      <th>triglicerides</th>\n",
       "      <th>glicose</th>\n",
       "      <th>target</th>\n",
       "    </tr>\n",
       "  </thead>\n",
       "  <tbody>\n",
       "    <tr>\n",
       "      <th>0</th>\n",
       "      <td>59</td>\n",
       "      <td>2</td>\n",
       "      <td>32.099998</td>\n",
       "      <td>101.0</td>\n",
       "      <td>157</td>\n",
       "      <td>93.199997</td>\n",
       "      <td>38.0</td>\n",
       "      <td>4.0</td>\n",
       "      <td>4.8598</td>\n",
       "      <td>87</td>\n",
       "      <td>151</td>\n",
       "    </tr>\n",
       "    <tr>\n",
       "      <th>1</th>\n",
       "      <td>48</td>\n",
       "      <td>1</td>\n",
       "      <td>21.600000</td>\n",
       "      <td>87.0</td>\n",
       "      <td>183</td>\n",
       "      <td>103.199997</td>\n",
       "      <td>70.0</td>\n",
       "      <td>3.0</td>\n",
       "      <td>3.8918</td>\n",
       "      <td>69</td>\n",
       "      <td>75</td>\n",
       "    </tr>\n",
       "    <tr>\n",
       "      <th>2</th>\n",
       "      <td>72</td>\n",
       "      <td>2</td>\n",
       "      <td>30.500000</td>\n",
       "      <td>93.0</td>\n",
       "      <td>156</td>\n",
       "      <td>93.599998</td>\n",
       "      <td>41.0</td>\n",
       "      <td>4.0</td>\n",
       "      <td>4.6728</td>\n",
       "      <td>85</td>\n",
       "      <td>141</td>\n",
       "    </tr>\n",
       "    <tr>\n",
       "      <th>3</th>\n",
       "      <td>24</td>\n",
       "      <td>1</td>\n",
       "      <td>25.299999</td>\n",
       "      <td>84.0</td>\n",
       "      <td>198</td>\n",
       "      <td>131.399994</td>\n",
       "      <td>40.0</td>\n",
       "      <td>5.0</td>\n",
       "      <td>4.8903</td>\n",
       "      <td>89</td>\n",
       "      <td>206</td>\n",
       "    </tr>\n",
       "    <tr>\n",
       "      <th>4</th>\n",
       "      <td>50</td>\n",
       "      <td>1</td>\n",
       "      <td>23.000000</td>\n",
       "      <td>101.0</td>\n",
       "      <td>192</td>\n",
       "      <td>125.400002</td>\n",
       "      <td>52.0</td>\n",
       "      <td>4.0</td>\n",
       "      <td>4.2905</td>\n",
       "      <td>80</td>\n",
       "      <td>135</td>\n",
       "    </tr>\n",
       "  </tbody>\n",
       "</table>\n",
       "</div>"
      ],
      "text/plain": [
       "   idade  sexo        imc  pressao_media  colesterol_total         ldl   hdl  \\\n",
       "0     59     2  32.099998          101.0               157   93.199997  38.0   \n",
       "1     48     1  21.600000           87.0               183  103.199997  70.0   \n",
       "2     72     2  30.500000           93.0               156   93.599998  41.0   \n",
       "3     24     1  25.299999           84.0               198  131.399994  40.0   \n",
       "4     50     1  23.000000          101.0               192  125.400002  52.0   \n",
       "\n",
       "   colesterol_hdl  triglicerides  glicose  target  \n",
       "0             4.0         4.8598       87     151  \n",
       "1             3.0         3.8918       69      75  \n",
       "2             4.0         4.6728       85     141  \n",
       "3             5.0         4.8903       89     206  \n",
       "4             4.0         4.2905       80     135  "
      ]
     },
     "execution_count": 3,
     "metadata": {},
     "output_type": "execute_result"
    }
   ],
   "source": [
    "df = pd.read_parquet(DADOS_TRATADOS)\n",
    "\n",
    "df.head()"
   ]
  },
  {
   "cell_type": "code",
   "execution_count": 5,
   "metadata": {},
   "outputs": [
    {
     "name": "stdout",
     "output_type": "stream",
     "text": [
      "<class 'pandas.core.frame.DataFrame'>\n",
      "RangeIndex: 442 entries, 0 to 441\n",
      "Data columns (total 11 columns):\n",
      " #   Column            Non-Null Count  Dtype  \n",
      "---  ------            --------------  -----  \n",
      " 0   idade             442 non-null    int8   \n",
      " 1   sexo              442 non-null    int8   \n",
      " 2   imc               442 non-null    float32\n",
      " 3   pressao_media     442 non-null    float32\n",
      " 4   colesterol_total  442 non-null    int16  \n",
      " 5   ldl               442 non-null    float32\n",
      " 6   hdl               442 non-null    float32\n",
      " 7   colesterol_hdl    442 non-null    float32\n",
      " 8   triglicerides     442 non-null    float32\n",
      " 9   glicose           442 non-null    int8   \n",
      " 10  target            442 non-null    int16  \n",
      "dtypes: float32(6), int16(2), int8(3)\n",
      "memory usage: 13.5 KB\n"
     ]
    }
   ],
   "source": [
    "df.info()"
   ]
  },
  {
   "cell_type": "markdown",
   "metadata": {},
   "source": [
    "Quando desenvolvemos um modelo de machine learning, nosso objetivo principal é criar um sistema que seja capaz de fazer previsões precisas em dados que o modelo nunca viu antes. Para alcançar esse objetivo, precisamos garantir que o modelo não apenas aprenda os padrões dos dados de treinamento, mas que também seja capaz de generalizar esse aprendizado para novos dados.\n",
    "\n",
    "#### **Base de Treinamento (Training Set)**\n",
    "\n",
    "A base de treinamento é a parte dos dados que o modelo utiliza para aprender. Nessa etapa, o modelo ajusta seus parâmetros internos, como os coeficientes de uma regressão linear ou os pesos de uma forma geral, para minimizar o erro em relação aos dados de treinamento.\n",
    "\n",
    "- **Objetivo**: Permitir que o modelo aprenda as relações e padrões presentes nos dados. Durante o treinamento, o modelo é exposto a esses dados repetidamente para refinar sua capacidade de fazer previsões.\n",
    "\n",
    "- **Risco**: Se o modelo tiver muita capacidade (por exemplo, se for muito complexo), ele pode \"memorizar\" os dados de treinamento, resultando em overfitting. Overfitting ocorre quando o modelo se ajusta tão bem aos dados de treinamento que perde a capacidade de generalizar para novos dados.\n",
    "\n",
    "#### **Base de Teste (Test Set)**\n",
    "\n",
    "A base de teste, por outro lado, é um conjunto de dados separado que o modelo não vê durante o treinamento. Esse conjunto é reservado exclusivamente para avaliar o desempenho do modelo após ele ter sido treinado.\n",
    "\n",
    "- **Objetivo**: Fornecer uma estimativa imparcial do desempenho do modelo em dados novos, simulando como ele se comportaria em um ambiente real. Como o modelo não teve acesso a esses dados durante o treinamento, seu desempenho na base de teste é um bom indicador de sua capacidade de generalização.\n",
    "\n",
    "- **Risco**: Se a base de teste for usada de forma inadequada, por exemplo, se for utilizada para ajustar hiperparâmetros ou refinar o modelo, ela pode deixar de ser um teste imparcial, levando a uma avaliação excessivamente otimista do desempenho do modelo.\n",
    "\n",
    "### Importância da Separação\n",
    "\n",
    "1. **Avaliação da Generalização**:\n",
    "   - A principal razão para separar os dados em treino e teste é avaliar a capacidade do modelo de generalizar para novos dados. Sem essa separação, não teríamos como medir o quanto o modelo aprendeu de forma robusta ou se ele está simplesmente memorizando os dados de treinamento.\n",
    "\n",
    "2. **Detecção de Overfitting e Underfitting**:\n",
    "   - Ao comparar o desempenho do modelo nos dados de treinamento e teste, podemos identificar problemas de overfitting (quando o desempenho no treino é muito melhor do que no teste) e underfitting (quando o desempenho é ruim em ambos).\n",
    "\n",
    "3. **Validação Imparcial**:\n",
    "   - Usar um conjunto de dados separado para teste garante que a avaliação do modelo seja imparcial e reflita seu verdadeiro desempenho em situações do mundo real.\n",
    "\n",
    "### Procedimentos Relacionados\n",
    "\n",
    "- **Cross-Validation**: Para mitigar o risco de que a divisão específica dos dados em treino e teste possa influenciar os resultados, muitas vezes utilizamos a técnica de validação cruzada (cross-validation). Nessa técnica, o conjunto de dados é dividido em várias partes, e o treinamento e teste são realizados múltiplas vezes, cada vez com uma parte diferente dos dados reservada para teste. Isso fornece uma estimativa mais robusta do desempenho do modelo.\n",
    "\n"
   ]
  },
  {
   "cell_type": "code",
   "execution_count": null,
   "metadata": {},
   "outputs": [],
   "source": []
  },
  {
   "cell_type": "code",
   "execution_count": null,
   "metadata": {},
   "outputs": [],
   "source": []
  },
  {
   "cell_type": "code",
   "execution_count": null,
   "metadata": {},
   "outputs": [],
   "source": []
  },
  {
   "cell_type": "code",
   "execution_count": null,
   "metadata": {},
   "outputs": [],
   "source": []
  },
  {
   "cell_type": "code",
   "execution_count": null,
   "metadata": {},
   "outputs": [],
   "source": []
  },
  {
   "cell_type": "code",
   "execution_count": null,
   "metadata": {},
   "outputs": [],
   "source": []
  },
  {
   "cell_type": "code",
   "execution_count": null,
   "metadata": {},
   "outputs": [],
   "source": []
  },
  {
   "cell_type": "code",
   "execution_count": null,
   "metadata": {},
   "outputs": [],
   "source": []
  },
  {
   "cell_type": "code",
   "execution_count": null,
   "metadata": {},
   "outputs": [],
   "source": []
  },
  {
   "cell_type": "code",
   "execution_count": null,
   "metadata": {},
   "outputs": [],
   "source": []
  },
  {
   "cell_type": "code",
   "execution_count": null,
   "metadata": {},
   "outputs": [],
   "source": []
  },
  {
   "cell_type": "markdown",
   "metadata": {},
   "source": [
    "Os coeficientes de uma regressão linear muitas vezes são interpretados como indicadores da importância das features, mas essa interpretação precisa ser feita com cautela.\n",
    "\n",
    "### 1. **Coeficientes e Importância Relativa**\n",
    "   \n",
    "Em uma regressão linear, o coeficiente associado a cada feature indica a mudança esperada na variável dependente (target) para cada unidade de mudança na feature, mantendo todas as outras features constantes. Em termos simples, um coeficiente maior sugere que a feature correspondente tem um impacto maior na predição do modelo.\n",
    "\n",
    "No entanto, essa interpretação pode ser enganosa, especialmente em modelos com múltiplas features. A magnitude dos coeficientes pode ser afetada por vários fatores, que não necessariamente refletem a verdadeira importância das features:\n",
    "\n",
    "- **Escala das Features**: Se as features estão em escalas diferentes, os coeficientes podem ser desproporcionalmente influenciados por essa diferença. Por exemplo, uma feature que varia entre 0 e 1 pode ter um coeficiente pequeno, enquanto uma feature que varia entre 1 e 1000 pode ter um coeficiente grande, mesmo que ambas tenham uma importância semelhante. A padronização ou normalização das features antes de aplicar a regressão linear pode ajudar a mitigar esse problema.\n",
    "\n",
    "- **Colinearidade**: Quando há colinearidade (ou multicolinearidade) entre as features, os coeficientes podem se tornar instáveis e difíceis de interpretar. A presença de colinearidade significa que as features estão correlacionadas entre si, o que pode levar a coeficientes inflacionados ou com sinais contrários ao esperado. Nesse caso, os coeficientes podem não refletir a verdadeira relação entre as features e o target.\n",
    "\n",
    "**Colinearidade e Multicolinearidade em Machine Learning**\n",
    "\n",
    "**Colinearidade:**  \n",
    "Colinearidade ocorre quando duas variáveis independentes (ou preditoras) em um modelo de regressão estão altamente correlacionadas, ou seja, elas têm uma relação linear entre si. Isso significa que uma das variáveis pode ser quase completamente explicada pela outra. No contexto de machine learning, a colinearidade pode levar a problemas na estimativa dos coeficientes de regressão, tornando-os menos confiáveis e mais sensíveis a pequenas mudanças nos dados.\n",
    "\n",
    "**Multicolinearidade:**  \n",
    "Multicolinearidade é uma extensão do conceito de colinearidade e ocorre quando uma variável independente é altamente correlacionada com uma combinação linear de outras variáveis independentes no modelo. Em outras palavras, várias variáveis independentes estão correlacionadas entre si, o que pode dificultar a separação do efeito individual de cada uma sobre a variável dependente.\n",
    "\n",
    "**Impactos em Machine Learning:**  \n",
    "- **Instabilidade nos Coeficientes:** Em modelos de regressão linear, a multicolinearidade pode causar instabilidade nos coeficientes estimados, resultando em grandes variações entre diferentes amostras de dados.\n",
    "- **Redução da Interpretabilidade:** Quando as variáveis preditoras estão correlacionadas, torna-se difícil determinar a importância individual de cada variável no modelo.\n",
    "- **Aumento do Overfitting:** A multicolinearidade pode aumentar o risco de overfitting, onde o modelo se ajusta demais aos dados de treino e não generaliza bem para novos dados.\n",
    "\n",
    "**Soluções:**  \n",
    "- **Remoção de Variáveis Correlacionadas:** Identificar e remover uma ou mais variáveis preditoras altamente correlacionadas pode ajudar a reduzir a multicolinearidade.\n",
    "- **Regularização (Ridge e Lasso):** Como mencionado anteriormente, técnicas de regularização, como Ridge e Lasso, podem ajudar a mitigar os efeitos da multicolinearidade, penalizando coeficientes grandes e ajudando a estabilizar as estimativas.\n",
    "\n",
    "\n",
    "### 2. **Interpretação de Coeficientes em Regimes Diferentes**\n",
    "\n",
    "- **Regressão Linear Simples**: Em uma regressão linear simples (uma única feature), o coeficiente pode ser interpretado diretamente como a importância da feature na predição do target.\n",
    "\n",
    "- **Regressão Linear Múltipla**: Em uma regressão linear múltipla (várias features), a interpretação dos coeficientes se torna mais complexa. Cada coeficiente representa a influência de uma feature considerando que todas as outras features estão presentes no modelo. A interação entre as features pode distorcer a percepção da importância de cada uma.\n",
    "\n",
    "### 3. **Outras Medidas de Importância**\n",
    "\n",
    "Dada a complexidade envolvida na interpretação dos coeficientes, outras técnicas e métricas são frequentemente utilizadas para avaliar a importância das features:\n",
    "\n",
    "- **Importância baseada em árvores**: Modelos baseados em árvores de decisão, como Random Forests, calculam a importância das features com base na redução do erro de predição ao longo de todas as árvores. Essa métrica pode ser mais robusta e intuitiva em cenários onde as features interagem de maneira complexa.\n",
    "\n",
    "- **Coeficientes Regularizados**: Modelos de regressão linear com regularização, como Lasso (L1) e Ridge (L2), ajustam os coeficientes para reduzir overfitting e podem fornecer uma ideia mais confiável da importância das features. O Lasso, por exemplo, pode zerar os coeficientes de features menos importantes, promovendo um modelo mais interpretável.\n",
    "\n",
    "### 4. **Cenários Específicos**\n",
    "\n",
    "- **Dados com Alta Dimensionalidade**: Em conjuntos de dados com muitas features, os coeficientes podem ser difíceis de interpretar, especialmente se o modelo estiver sobreajustado (overfitting). Regularização e seleção de features são fundamentais nesses casos.\n",
    "\n",
    "- **Modelos Lineares vs. Modelos Não Lineares**: Em modelos não lineares (como redes neurais ou máquinas de vetores de suporte com kernels não lineares), a ideia de \"importância de feature\" baseada em coeficientes não se aplica da mesma forma. Nesses casos, técnicas específicas de interpretação são necessárias.\n"
   ]
  },
  {
   "cell_type": "code",
   "execution_count": null,
   "metadata": {},
   "outputs": [],
   "source": []
  },
  {
   "cell_type": "code",
   "execution_count": null,
   "metadata": {},
   "outputs": [],
   "source": []
  },
  {
   "cell_type": "code",
   "execution_count": null,
   "metadata": {},
   "outputs": [],
   "source": []
  },
  {
   "cell_type": "code",
   "execution_count": null,
   "metadata": {},
   "outputs": [],
   "source": []
  },
  {
   "cell_type": "code",
   "execution_count": null,
   "metadata": {},
   "outputs": [],
   "source": []
  },
  {
   "cell_type": "code",
   "execution_count": null,
   "metadata": {},
   "outputs": [],
   "source": []
  },
  {
   "cell_type": "code",
   "execution_count": null,
   "metadata": {},
   "outputs": [],
   "source": []
  },
  {
   "cell_type": "code",
   "execution_count": null,
   "metadata": {},
   "outputs": [],
   "source": []
  },
  {
   "cell_type": "code",
   "execution_count": null,
   "metadata": {},
   "outputs": [],
   "source": []
  }
 ],
 "metadata": {
  "kernelspec": {
   "display_name": "machine_learning",
   "language": "python",
   "name": "machine_learning"
  },
  "language_info": {
   "codemirror_mode": {
    "name": "ipython",
    "version": 3
   },
   "file_extension": ".py",
   "mimetype": "text/x-python",
   "name": "python",
   "nbconvert_exporter": "python",
   "pygments_lexer": "ipython3",
   "version": "3.12.5"
  }
 },
 "nbformat": 4,
 "nbformat_minor": 4
}
